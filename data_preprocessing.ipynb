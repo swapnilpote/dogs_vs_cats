{
 "cells": [
  {
   "cell_type": "code",
   "execution_count": 1,
   "metadata": {},
   "outputs": [],
   "source": [
    "import os, json, csv, shutil\n",
    "from glob import glob\n",
    "import numpy as np"
   ]
  },
  {
   "cell_type": "code",
   "execution_count": 2,
   "metadata": {},
   "outputs": [],
   "source": [
    "path = 'data/'"
   ]
  },
  {
   "cell_type": "markdown",
   "metadata": {},
   "source": [
    "# Create train, valid and sample folder"
   ]
  },
  {
   "cell_type": "code",
   "execution_count": 3,
   "metadata": {},
   "outputs": [],
   "source": [
    "os.mkdir(path + 'train/')\n",
    "os.mkdir(path + 'valid/')\n",
    "os.mkdir(path + 'sample/')\n",
    "os.mkdir(path + 'sample/train/')\n",
    "os.mkdir(path + 'sample/valid/')"
   ]
  },
  {
   "cell_type": "code",
   "execution_count": 4,
   "metadata": {},
   "outputs": [],
   "source": [
    "os.mkdir(path + 'train/cats/')\n",
    "os.mkdir(path + 'train/dogs/')\n",
    "os.mkdir(path + 'valid/cats/')\n",
    "os.mkdir(path + 'valid/dogs/')\n",
    "os.mkdir(path + 'sample/train/cats/')\n",
    "os.mkdir(path + 'sample/train/dogs/')\n",
    "os.mkdir(path + 'sample/valid/cats/')\n",
    "os.mkdir(path + 'sample/valid/dogs/')"
   ]
  },
  {
   "cell_type": "markdown",
   "metadata": {},
   "source": [
    "# Move images into train, valid folders"
   ]
  },
  {
   "cell_type": "code",
   "execution_count": 5,
   "metadata": {},
   "outputs": [],
   "source": [
    "cats = glob(path + 'cat*.jpg')\n",
    "shuf = np.random.permutation(cats)\n",
    "\n",
    "for i in range(len(cats)): shutil.move(shuf[i], path + 'train/cats/')"
   ]
  },
  {
   "cell_type": "code",
   "execution_count": 6,
   "metadata": {},
   "outputs": [],
   "source": [
    "cats = glob(path + 'dog*.jpg')\n",
    "shuf = np.random.permutation(cats)\n",
    "\n",
    "for i in range(len(cats)): shutil.move(shuf[i], path + 'train/dogs/')"
   ]
  },
  {
   "cell_type": "code",
   "execution_count": 7,
   "metadata": {},
   "outputs": [],
   "source": [
    "cats_valid = glob(path + 'train/cats/*.jpg')\n",
    "shuf = np.random.permutation(cats_valid)\n",
    "\n",
    "for i in range(int(len(cats_valid) / 10)): shutil.move(shuf[i], path + 'valid/cats/')"
   ]
  },
  {
   "cell_type": "code",
   "execution_count": 8,
   "metadata": {},
   "outputs": [],
   "source": [
    "dogs_valid = glob(path + 'train/dogs/*.jpg')\n",
    "shuf = np.random.permutation(dogs_valid)\n",
    "\n",
    "for i in range(int(len(dogs_valid) / 10)): shutil.move(shuf[i], path + 'valid/dogs/')"
   ]
  },
  {
   "cell_type": "code",
   "execution_count": 9,
   "metadata": {},
   "outputs": [],
   "source": [
    "cats = glob(path + 'train/cats/*.jpg')\n",
    "shuf = np.random.permutation(cats)\n",
    "\n",
    "for i in range(int(len(cats) / 20)): shutil.copy2(shuf[i], path + 'sample/train/cats/')\n",
    "\n",
    "    \n",
    "dogs = glob(path + 'train/dogs/*.jpg')\n",
    "shuf = np.random.permutation(dogs)\n",
    "\n",
    "for i in range(int(len(dogs) / 20)): shutil.copy2(shuf[i], path + 'sample/train/dogs/')"
   ]
  },
  {
   "cell_type": "code",
   "execution_count": 10,
   "metadata": {},
   "outputs": [],
   "source": [
    "cats = glob(path + 'valid/cats/*.jpg')\n",
    "shuf = np.random.permutation(cats)\n",
    "\n",
    "for i in range(int(len(cats) / 20)): shutil.copy2(shuf[i], path + 'sample/valid/cats/')\n",
    "\n",
    "    \n",
    "dogs = glob(path + 'valid/dogs/*.jpg')\n",
    "shuf = np.random.permutation(dogs)\n",
    "\n",
    "for i in range(int(len(dogs) / 20)): shutil.copy2(shuf[i], path + 'sample/valid/dogs/')"
   ]
  },
  {
   "cell_type": "code",
   "execution_count": null,
   "metadata": {},
   "outputs": [],
   "source": []
  }
 ],
 "metadata": {
  "kernelspec": {
   "display_name": "Python 3",
   "language": "python",
   "name": "python3"
  },
  "language_info": {
   "codemirror_mode": {
    "name": "ipython",
    "version": 3
   },
   "file_extension": ".py",
   "mimetype": "text/x-python",
   "name": "python",
   "nbconvert_exporter": "python",
   "pygments_lexer": "ipython3",
   "version": "3.6.5"
  }
 },
 "nbformat": 4,
 "nbformat_minor": 2
}

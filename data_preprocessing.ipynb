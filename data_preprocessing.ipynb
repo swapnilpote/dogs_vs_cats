{
 "cells": [
  {
   "cell_type": "code",
   "execution_count": 1,
   "metadata": {},
   "outputs": [],
   "source": [
    "import os, json, csv, shutil\n",
    "from glob import glob\n",
    "import numpy as np\n",
    "import kaggle_cli as kg"
   ]
  },
  {
   "cell_type": "markdown",
   "metadata": {},
   "source": [
    "# Create data folder, download dataset from kaggle and move it data folder..."
   ]
  },
  {
   "cell_type": "code",
   "execution_count": 2,
   "metadata": {},
   "outputs": [],
   "source": [
    "!mkdir data/"
   ]
  },
  {
   "cell_type": "code",
   "execution_count": 3,
   "metadata": {},
   "outputs": [
    {
     "name": "stdout",
     "output_type": "stream",
     "text": [
      "README.md  data_preprocessing.ipynb  vgg16_split.ipynb\r\n",
      "data\t   vgg16.ipynb\t\t     vgg_mean_working.ipynb\r\n"
     ]
    }
   ],
   "source": [
    "!ls"
   ]
  },
  {
   "cell_type": "raw",
   "metadata": {},
   "source": [
    "Let's download dataset from kaggle of https://www.kaggle.com/c/dogs-vs-cats competition using kaggle-cli python package"
   ]
  },
  {
   "cell_type": "raw",
   "metadata": {},
   "source": [
    "check following link for kaggle-cli https://github.com/floydwch/kaggle-cli"
   ]
  },
  {
   "cell_type": "code",
   "execution_count": 5,
   "metadata": {},
   "outputs": [
    {
     "name": "stdout",
     "output_type": "stream",
     "text": [
      "/home/hulk/.virtualenvs/py3/lib/python3.5/site-packages/mechanicalsoup/browser.py:37: UserWarning: No parser was explicitly specified, so I'm using the best available HTML parser for this system (\"lxml\"). This usually isn't a problem, but if you run this code on another system, or in a different virtual environment, it may use a different parser and behave differently.\n",
      "\n",
      "The code that caused this warning is on line 37 of the file /home/hulk/.virtualenvs/py3/lib/python3.5/site-packages/mechanicalsoup/browser.py. To get rid of this warning, pass the additional argument 'features=\"lxml\"' to the BeautifulSoup constructor.\n",
      "\n",
      "  response.content, **soup_config)\n",
      "downloading https://www.kaggle.com/c/dogs-vs-cats/download/sampleSubmission.csv\n",
      "\n",
      "sampleSubmission.csv 100% |#########################| Time: 0:00:01  50.9 KiB/s\n",
      "\n",
      "downloading https://www.kaggle.com/c/dogs-vs-cats/download/test1.zip\n",
      "\n",
      "test1.zip 100% |####################################| Time: 0:08:29 544.7 KiB/s\n",
      "\n",
      "downloading https://www.kaggle.com/c/dogs-vs-cats/download/train.zip\n",
      "\n",
      "train.zip 100% |####################################| Time: 0:16:14 570.6 KiB/s\n",
      "\n"
     ]
    }
   ],
   "source": [
    "!kg download -u 'username' -p 'password' -c 'dogs-vs-cats'"
   ]
  },
  {
   "cell_type": "code",
   "execution_count": 2,
   "metadata": {},
   "outputs": [
    {
     "name": "stdout",
     "output_type": "stream",
     "text": [
      "README.md\t\t  sampleSubmission.csv\tvgg16.ipynb\r\n",
      "data\t\t\t  test1.zip\t\tvgg16_split.ipynb\r\n",
      "data_preprocessing.ipynb  train.zip\t\tvgg_mean_working.ipynb\r\n"
     ]
    }
   ],
   "source": [
    "!ls"
   ]
  },
  {
   "cell_type": "code",
   "execution_count": 3,
   "metadata": {},
   "outputs": [],
   "source": [
    "!mv *.zip data/"
   ]
  },
  {
   "cell_type": "code",
   "execution_count": 4,
   "metadata": {},
   "outputs": [],
   "source": [
    "!mv sampleSubmission.csv data/"
   ]
  },
  {
   "cell_type": "code",
   "execution_count": 5,
   "metadata": {},
   "outputs": [
    {
     "name": "stdout",
     "output_type": "stream",
     "text": [
      "README.md  data_preprocessing.ipynb  vgg16_split.ipynb\r\n",
      "data\t   vgg16.ipynb\t\t     vgg_mean_working.ipynb\r\n"
     ]
    }
   ],
   "source": [
    "!ls"
   ]
  },
  {
   "cell_type": "code",
   "execution_count": 6,
   "metadata": {},
   "outputs": [
    {
     "name": "stdout",
     "output_type": "stream",
     "text": [
      "sampleSubmission.csv  test1.zip  train.zip\r\n"
     ]
    }
   ],
   "source": [
    "!ls data/"
   ]
  },
  {
   "cell_type": "code",
   "execution_count": 8,
   "metadata": {},
   "outputs": [],
   "source": [
    "!unzip -q data/train.zip"
   ]
  },
  {
   "cell_type": "code",
   "execution_count": 9,
   "metadata": {},
   "outputs": [],
   "source": [
    "!mv train/ data/"
   ]
  },
  {
   "cell_type": "code",
   "execution_count": 11,
   "metadata": {},
   "outputs": [
    {
     "name": "stdout",
     "output_type": "stream",
     "text": [
      "sampleSubmission.csv  test1.zip  train\ttrain.zip\r\n"
     ]
    }
   ],
   "source": [
    "!ls data/"
   ]
  },
  {
   "cell_type": "raw",
   "metadata": {},
   "source": [
    "Check number of images in our data/train/ folder i.e. 25000"
   ]
  },
  {
   "cell_type": "code",
   "execution_count": 13,
   "metadata": {},
   "outputs": [
    {
     "name": "stdout",
     "output_type": "stream",
     "text": [
      "25000\r\n"
     ]
    }
   ],
   "source": [
    "!ls data/train/ | wc -l"
   ]
  },
  {
   "cell_type": "code",
   "execution_count": 14,
   "metadata": {},
   "outputs": [],
   "source": [
    "path = 'data/'"
   ]
  },
  {
   "cell_type": "markdown",
   "metadata": {},
   "source": [
    "# Create train, valid and sample folder"
   ]
  },
  {
   "cell_type": "code",
   "execution_count": 15,
   "metadata": {},
   "outputs": [],
   "source": [
    "os.mkdir(path + 'valid/')\n",
    "os.mkdir(path + 'sample/')\n",
    "os.mkdir(path + 'sample/train/')\n",
    "os.mkdir(path + 'sample/valid/')"
   ]
  },
  {
   "cell_type": "code",
   "execution_count": 16,
   "metadata": {},
   "outputs": [],
   "source": [
    "os.mkdir(path + 'train/cats/')\n",
    "os.mkdir(path + 'train/dogs/')\n",
    "os.mkdir(path + 'valid/cats/')\n",
    "os.mkdir(path + 'valid/dogs/')\n",
    "os.mkdir(path + 'sample/train/cats/')\n",
    "os.mkdir(path + 'sample/train/dogs/')\n",
    "os.mkdir(path + 'sample/valid/cats/')\n",
    "os.mkdir(path + 'sample/valid/dogs/')"
   ]
  },
  {
   "cell_type": "markdown",
   "metadata": {},
   "source": [
    "# Move images into train, valid folders"
   ]
  },
  {
   "cell_type": "code",
   "execution_count": 23,
   "metadata": {},
   "outputs": [],
   "source": [
    "cats = glob(path + 'train/cat*.jpg')\n",
    "shuf = np.random.permutation(cats)\n",
    "\n",
    "for i in range(len(cats)): shutil.move(shuf[i], path + 'train/cats/')"
   ]
  },
  {
   "cell_type": "code",
   "execution_count": 24,
   "metadata": {},
   "outputs": [],
   "source": [
    "cats = glob(path + 'train/dog*.jpg')\n",
    "shuf = np.random.permutation(cats)\n",
    "\n",
    "for i in range(len(cats)): shutil.move(shuf[i], path + 'train/dogs/')"
   ]
  },
  {
   "cell_type": "code",
   "execution_count": 25,
   "metadata": {},
   "outputs": [],
   "source": [
    "cats_valid = glob(path + 'train/cats/*.jpg')\n",
    "shuf = np.random.permutation(cats_valid)\n",
    "\n",
    "for i in range(int(len(cats_valid) / 10)): shutil.move(shuf[i], path + 'valid/cats/')"
   ]
  },
  {
   "cell_type": "code",
   "execution_count": 26,
   "metadata": {},
   "outputs": [],
   "source": [
    "dogs_valid = glob(path + 'train/dogs/*.jpg')\n",
    "shuf = np.random.permutation(dogs_valid)\n",
    "\n",
    "for i in range(int(len(dogs_valid) / 10)): shutil.move(shuf[i], path + 'valid/dogs/')"
   ]
  },
  {
   "cell_type": "code",
   "execution_count": 27,
   "metadata": {},
   "outputs": [],
   "source": [
    "cats = glob(path + 'train/cats/*.jpg')\n",
    "shuf = np.random.permutation(cats)\n",
    "\n",
    "for i in range(int(len(cats) / 20)): shutil.copy2(shuf[i], path + 'sample/train/cats/')\n",
    "\n",
    "    \n",
    "dogs = glob(path + 'train/dogs/*.jpg')\n",
    "shuf = np.random.permutation(dogs)\n",
    "\n",
    "for i in range(int(len(dogs) / 20)): shutil.copy2(shuf[i], path + 'sample/train/dogs/')"
   ]
  },
  {
   "cell_type": "code",
   "execution_count": 28,
   "metadata": {},
   "outputs": [],
   "source": [
    "cats = glob(path + 'valid/cats/*.jpg')\n",
    "shuf = np.random.permutation(cats)\n",
    "\n",
    "for i in range(int(len(cats) / 20)): shutil.copy2(shuf[i], path + 'sample/valid/cats/')\n",
    "\n",
    "    \n",
    "dogs = glob(path + 'valid/dogs/*.jpg')\n",
    "shuf = np.random.permutation(dogs)\n",
    "\n",
    "for i in range(int(len(dogs) / 20)): shutil.copy2(shuf[i], path + 'sample/valid/dogs/')"
   ]
  },
  {
   "cell_type": "code",
   "execution_count": null,
   "metadata": {},
   "outputs": [],
   "source": []
  }
 ],
 "metadata": {
  "kernelspec": {
   "display_name": "Python 3",
   "language": "python",
   "name": "python3"
  },
  "language_info": {
   "codemirror_mode": {
    "name": "ipython",
    "version": 3
   },
   "file_extension": ".py",
   "mimetype": "text/x-python",
   "name": "python",
   "nbconvert_exporter": "python",
   "pygments_lexer": "ipython3",
   "version": "3.5.2"
  }
 },
 "nbformat": 4,
 "nbformat_minor": 2
}
